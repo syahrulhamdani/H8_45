{
 "cells": [
  {
   "cell_type": "markdown",
   "metadata": {},
   "source": [
    "# Modularity in Python\n",
    "\n",
    "* Function and/or methods\n",
    "* Modules\n",
    "* Packages"
   ]
  },
  {
   "cell_type": "code",
   "execution_count": 4,
   "metadata": {},
   "outputs": [],
   "source": [
    "def cylinder_volume(height, radius):\n",
    "    \"\"\"Computes volume of a cylinder.\"\"\"\n",
    "    volume = 3.14 * radius**2 * height\n",
    "    return volume\n",
    "\n",
    "\n",
    "def show_cylinder_volume(height, radius):\n",
    "    \"\"\"Show volume of a cylinder.\"\"\"\n",
    "    volume = 3.14 * radius**2 * height\n",
    "    print(volume)"
   ]
  },
  {
   "cell_type": "code",
   "execution_count": 5,
   "metadata": {},
   "outputs": [
    {
     "name": "stdout",
     "output_type": "stream",
     "text": [
      "Volume: 2198.0\n",
      "Volume: 3140.0\n",
      "2198.0\n",
      "Volume: None\n"
     ]
    }
   ],
   "source": [
    "vol_1 = cylinder_volume(7, 10)\n",
    "print(\"Volume:\", vol_1)\n",
    "\n",
    "vol_2 = cylinder_volume(10, 10)\n",
    "print(\"Volume:\", vol_2)\n",
    "\n",
    "vol_3 = show_cylinder_volume(7, 10)\n",
    "print(\"Volume:\", vol_3)"
   ]
  },
  {
   "cell_type": "code",
   "execution_count": 29,
   "metadata": {},
   "outputs": [],
   "source": [
    "def filter_data(data, criteria=\"ani\"):\n",
    "    filtered_data = {}\n",
    "    for item in data:\n",
    "        if criteria in item.lower():\n",
    "            filtered_data[str(data.index(item))] = item\n",
    "    return filtered_data"
   ]
  },
  {
   "cell_type": "code",
   "execution_count": 30,
   "metadata": {},
   "outputs": [
    {
     "data": {
      "text/plain": [
       "{'1': 'idfi tAnIya', '6': 'idfiTaniya', '7': 'idfi taniyAkusuma'}"
      ]
     },
     "execution_count": 30,
     "metadata": {},
     "output_type": "execute_result"
    }
   ],
   "source": [
    "list_names = [\"eza\", \"idfi tAnIya\", \"yoanita\", \"septy\", \"tiurma\",\n",
    "              \"windi\", \"idfiTaniya\", \"idfi taniyAkusuma\"]\n",
    "\n",
    "filter_data(criteria=\"taniya\", data=list_names)"
   ]
  },
  {
   "cell_type": "code",
   "execution_count": 31,
   "metadata": {},
   "outputs": [
    {
     "data": {
      "text/plain": [
       "{'1': 'idfi tAnIya',\n",
       " '2': 'yoanita',\n",
       " '6': 'idfiTaniya',\n",
       " '7': 'idfi taniyAkusuma'}"
      ]
     },
     "execution_count": 31,
     "metadata": {},
     "output_type": "execute_result"
    }
   ],
   "source": [
    "filter_data(criteria=\"ani\", data=list_names)"
   ]
  },
  {
   "cell_type": "code",
   "execution_count": 32,
   "metadata": {},
   "outputs": [
    {
     "data": {
      "text/plain": [
       "{'1': 'idfi tAnIya',\n",
       " '2': 'yoanita',\n",
       " '6': 'idfiTaniya',\n",
       " '7': 'idfi taniyAkusuma'}"
      ]
     },
     "execution_count": 32,
     "metadata": {},
     "output_type": "execute_result"
    }
   ],
   "source": [
    "filter_data(list_names)"
   ]
  },
  {
   "cell_type": "code",
   "execution_count": 39,
   "metadata": {},
   "outputs": [
    {
     "name": "stdout",
     "output_type": "stream",
     "text": [
      "1 2 3 4 5 6 7 8 9 10 11 12 13\n",
      "1 2 3 4 5 6 7 8 9 10\n",
      "\n",
      "1..2..3..4..5..6..7..8..9..10==1..2..3..4..5..6..7..8..9..10\n",
      "1//2//3//4//5//6//7//8//9//10\n"
     ]
    }
   ],
   "source": [
    "print(1, 2, 3, 4, 5, 6, 7, 8, 9, 10, 11, 12, 13)\n",
    "print(1, 2, 3, 4, 5, 6, 7, 8, 9, 10, end=\"\\n\\n\")\n",
    "print(1, 2, 3, 4, 5, 6, 7, 8, 9, 10, sep=\"..\", end=\"==\")\n",
    "print(1, 2, 3, 4, 5, 6, 7, 8, 9, 10, sep=\"..\")\n",
    "print(1, 2, 3, 4, 5, 6, 7, 8, 9, 10, sep=\"//\")"
   ]
  },
  {
   "cell_type": "code",
   "execution_count": 71,
   "metadata": {},
   "outputs": [],
   "source": [
    "string = \"\"\n",
    "\n",
    "def show_all(*names, sep=\" \", string=string):\n",
    "    for name in names:\n",
    "        string += name\n",
    "        string += sep\n",
    "    return string[:-1]\n",
    "\n",
    "\n",
    "def shows(sep, *names, string=string):\n",
    "    for name in names:\n",
    "        string += name\n",
    "        string += sep\n",
    "    return string[:-1]"
   ]
  },
  {
   "cell_type": "code",
   "execution_count": 72,
   "metadata": {},
   "outputs": [
    {
     "name": "stdout",
     "output_type": "stream",
     "text": [
      "\n"
     ]
    }
   ],
   "source": [
    "print(string)"
   ]
  },
  {
   "cell_type": "code",
   "execution_count": 73,
   "metadata": {},
   "outputs": [
    {
     "data": {
      "text/plain": [
       "'idfi taniya yoanita tiurma eza kusuma windi septy'"
      ]
     },
     "execution_count": 73,
     "metadata": {},
     "output_type": "execute_result"
    }
   ],
   "source": [
    "show_all(\"idfi\", \"taniya\", \"yoanita\", \"tiurma\",\n",
    "         \"eza\", \"kusuma\", \"windi\", \"septy\")"
   ]
  },
  {
   "cell_type": "code",
   "execution_count": 74,
   "metadata": {},
   "outputs": [
    {
     "data": {
      "text/plain": [
       "'idfi taniya yoanita tiurma eza kusuma windi septy'"
      ]
     },
     "execution_count": 74,
     "metadata": {},
     "output_type": "execute_result"
    }
   ],
   "source": [
    "shows(\" \", \"idfi\", \"taniya\", \"yoanita\", \"tiurma\",\n",
    "         \"eza\", \"kusuma\", \"windi\", \"septy\")"
   ]
  },
  {
   "cell_type": "code",
   "execution_count": 75,
   "metadata": {},
   "outputs": [
    {
     "data": {
      "text/plain": [
       "'idfi taniya yoanita tiurma eza kusuma windi septy'"
      ]
     },
     "execution_count": 75,
     "metadata": {},
     "output_type": "execute_result"
    }
   ],
   "source": [
    "shows(\" \", \"idfi\", \"taniya\", \"yoanita\", \"tiurma\",\n",
    "         \"eza\", \"kusuma\", \"windi\", \"septy\")"
   ]
  },
  {
   "cell_type": "code",
   "execution_count": 65,
   "metadata": {},
   "outputs": [],
   "source": [
    "def jumlah(x, y):\n",
    "    return x + y\n",
    "\n",
    "\n",
    "jum = lambda arg1, arg2: arg1 + arg2"
   ]
  },
  {
   "cell_type": "code",
   "execution_count": 66,
   "metadata": {},
   "outputs": [
    {
     "name": "stdout",
     "output_type": "stream",
     "text": [
      "20\n",
      "20\n"
     ]
    }
   ],
   "source": [
    "jumlah_1 = jumlah(10, 10)\n",
    "print(jumlah_1)\n",
    "\n",
    "jumlah_2 = jum(10, 10)\n",
    "print(jumlah_2)"
   ]
  },
  {
   "cell_type": "markdown",
   "metadata": {},
   "source": [
    "## Modules"
   ]
  },
  {
   "cell_type": "code",
   "execution_count": 1,
   "metadata": {},
   "outputs": [],
   "source": [
    "# import process\n",
    "import process as p\n",
    "from process import filter_data, name"
   ]
  },
  {
   "cell_type": "code",
   "execution_count": 41,
   "metadata": {},
   "outputs": [],
   "source": [
    "def process():\n",
    "    print(\"processing something...\")"
   ]
  },
  {
   "cell_type": "code",
   "execution_count": 42,
   "metadata": {},
   "outputs": [
    {
     "name": "stdout",
     "output_type": "stream",
     "text": [
      "processing something...\n"
     ]
    }
   ],
   "source": [
    "process()"
   ]
  },
  {
   "cell_type": "code",
   "execution_count": 2,
   "metadata": {},
   "outputs": [
    {
     "data": {
      "text/plain": [
       "'intro to python batch-45'"
      ]
     },
     "execution_count": 2,
     "metadata": {},
     "output_type": "execute_result"
    }
   ],
   "source": [
    "p.name"
   ]
  },
  {
   "cell_type": "code",
   "execution_count": 5,
   "metadata": {},
   "outputs": [],
   "source": [
    "list_names = [\"eza\", \"idfi tAnIya\", \"yoanita\", \"septy\", \"tiurma\",\n",
    "              \"windi\", \"idfiTaniya\", \"idfi taniyAkusuma\"]"
   ]
  },
  {
   "cell_type": "code",
   "execution_count": 47,
   "metadata": {
    "scrolled": true
   },
   "outputs": [
    {
     "data": {
      "text/plain": [
       "{'1': 'idfi tAnIya',\n",
       " '2': 'yoanita',\n",
       " '6': 'idfiTaniya',\n",
       " '7': 'idfi taniyAkusuma'}"
      ]
     },
     "execution_count": 47,
     "metadata": {},
     "output_type": "execute_result"
    }
   ],
   "source": [
    "filter_data(list_names, criteria=\"an\")"
   ]
  },
  {
   "cell_type": "code",
   "execution_count": 48,
   "metadata": {},
   "outputs": [
    {
     "data": {
      "text/plain": [
       "{'1': 'idfi tAnIya',\n",
       " '2': 'yoanita',\n",
       " '6': 'idfiTaniya',\n",
       " '7': 'idfi taniyAkusuma'}"
      ]
     },
     "execution_count": 48,
     "metadata": {},
     "output_type": "execute_result"
    }
   ],
   "source": [
    "p.filter_data(list_names, criteria=\"an\")"
   ]
  },
  {
   "cell_type": "code",
   "execution_count": 49,
   "metadata": {},
   "outputs": [
    {
     "data": {
      "text/plain": [
       "' idfitaniyayoanitatiurmaezakusumawindisept'"
      ]
     },
     "execution_count": 49,
     "metadata": {},
     "output_type": "execute_result"
    }
   ],
   "source": [
    "p.show_all(\" \", \"idfi\", \"taniya\", \"yoanita\", \"tiurma\",\n",
    "         \"eza\", \"kusuma\", \"windi\", \"septy\")"
   ]
  },
  {
   "cell_type": "markdown",
   "metadata": {},
   "source": [
    "## Packages"
   ]
  },
  {
   "cell_type": "code",
   "execution_count": 1,
   "metadata": {},
   "outputs": [],
   "source": [
    "# import hacktiv.model\n",
    "# import hacktiv.process\n",
    "# from hacktiv import process as p\n",
    "from hacktiv.model import model\n",
    "from hacktiv.process import name, filter_data"
   ]
  },
  {
   "cell_type": "code",
   "execution_count": 6,
   "metadata": {},
   "outputs": [
    {
     "data": {
      "text/plain": [
       "{'1': 'idfi tAnIya',\n",
       " '2': 'yoanita',\n",
       " '6': 'idfiTaniya',\n",
       " '7': 'idfi taniyAkusuma'}"
      ]
     },
     "execution_count": 6,
     "metadata": {},
     "output_type": "execute_result"
    }
   ],
   "source": [
    "filter_data(list_names)"
   ]
  },
  {
   "cell_type": "code",
   "execution_count": 7,
   "metadata": {},
   "outputs": [
    {
     "data": {
      "text/plain": [
       "'intro to python batch-45'"
      ]
     },
     "execution_count": 7,
     "metadata": {},
     "output_type": "execute_result"
    }
   ],
   "source": [
    "name"
   ]
  },
  {
   "cell_type": "code",
   "execution_count": 3,
   "metadata": {},
   "outputs": [
    {
     "data": {
      "text/plain": [
       "'this is a model'"
      ]
     },
     "execution_count": 3,
     "metadata": {},
     "output_type": "execute_result"
    }
   ],
   "source": [
    "model"
   ]
  }
 ],
 "metadata": {
  "kernelspec": {
   "display_name": "Python 3",
   "language": "python",
   "name": "python3"
  },
  "language_info": {
   "codemirror_mode": {
    "name": "ipython",
    "version": 3
   },
   "file_extension": ".py",
   "mimetype": "text/x-python",
   "name": "python",
   "nbconvert_exporter": "python",
   "pygments_lexer": "ipython3",
   "version": "3.7.9"
  }
 },
 "nbformat": 4,
 "nbformat_minor": 4
}
